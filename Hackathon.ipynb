{
  "nbformat": 4,
  "nbformat_minor": 0,
  "metadata": {
    "colab": {
      "name": "Hackathon.ipynb",
      "provenance": [],
      "authorship_tag": "ABX9TyNUbxN7C0l1ouF1DII6e+Jr",
      "include_colab_link": true
    },
    "kernelspec": {
      "name": "python3",
      "display_name": "Python 3"
    }
  },
  "cells": [
    {
      "cell_type": "markdown",
      "metadata": {
        "id": "view-in-github",
        "colab_type": "text"
      },
      "source": [
        "<a href=\"https://colab.research.google.com/github/baerashid/TAMUHACK2020/blob/master/Hackathon.ipynb\" target=\"_parent\"><img src=\"https://colab.research.google.com/assets/colab-badge.svg\" alt=\"Open In Colab\"/></a>"
      ]
    },
    {
      "cell_type": "code",
      "metadata": {
        "id": "qNLpy_PISIKB",
        "colab_type": "code",
        "colab": {}
      },
      "source": [
        "# TODO(developer): Uncomment and set the following variables\n",
        "# project_id = 'PROJECT_ID_HERE'\n",
        "# compute_region = 'COMPUTE_REGION_HERE'\n",
        "# model_display_name = 'MODEL_DISPLAY_NAME_HERE'\n",
        "# inputs = {'value': 3, ...}\n",
        "\n",
        "from google.cloud import automl_v1beta1 as automl\n",
        "\n",
        "client = automl.TablesClient(project=project_id, region=compute_region)\n",
        "\n",
        "if feature_importance:\n",
        "    response = client.predict(\n",
        "        model_display_name=model_display_name,\n",
        "        inputs=inputs,\n",
        "        feature_importance=True,\n",
        "    )\n",
        "else:\n",
        "    response = client.predict(\n",
        "        model_display_name=model_display_name, inputs=inputs\n",
        "    )\n",
        "\n",
        "print(\"Prediction results:\")\n",
        "for result in response.payload:\n",
        "    print(\n",
        "        \"Predicted class name: {}\".format(result.tables.value.string_value)\n",
        "    )\n",
        "    print(\"Predicted class score: {}\".format(result.tables.score))\n",
        "\n",
        "    if feature_importance:\n",
        "        # get features of top importance\n",
        "        feat_list = [\n",
        "            (column.feature_importance, column.column_display_name)\n",
        "            for column in result.tables.tables_model_column_info\n",
        "        ]\n",
        "        feat_list.sort(reverse=True)\n",
        "        if len(feat_list) < 10:\n",
        "            feat_to_show = len(feat_list)\n",
        "        else:\n",
        "            feat_to_show = 10\n",
        "\n",
        "        print(\"Features of top importance:\")\n",
        "        for feat in feat_list[:feat_to_show]:\n",
        "            print(feat)\n"
      ],
      "execution_count": 0,
      "outputs": []
    },
    {
      "cell_type": "code",
      "metadata": {
        "id": "TqqUDItlSS3e",
        "colab_type": "code",
        "colab": {}
      },
      "source": [
        "!pip install google-cloud-automl"
      ],
      "execution_count": 0,
      "outputs": []
    },
    {
      "cell_type": "code",
      "metadata": {
        "id": "XxCZ05WLSudn",
        "colab_type": "code",
        "colab": {}
      },
      "source": [
        "from google.cloud import automl_v1beta1 as automl"
      ],
      "execution_count": 0,
      "outputs": []
    },
    {
      "cell_type": "code",
      "metadata": {
        "id": "6JHY7_1GSa5D",
        "colab_type": "code",
        "colab": {}
      },
      "source": [
        "# TODO(developer): Uncomment and set the following variables\n",
        "project_id = 'core-waters-264818'\n",
        "compute_region = 'us-central1'\n",
        "model_display_name = 'usaccidents_20200125104149'\n",
        "inputs = {'value': 3}"
      ],
      "execution_count": 0,
      "outputs": []
    },
    {
      "cell_type": "code",
      "metadata": {
        "id": "nnKN1Sg0YaQ0",
        "colab_type": "code",
        "colab": {
          "base_uri": "https://localhost:8080/",
          "height": 413
        },
        "outputId": "7996f19d-c755-4a24-f48d-7cd135f02dd5"
      },
      "source": [
        "client = automl.TablesClient(project=project_id, region=compute_region)\n",
        "\n",
        "if feature_importance:\n",
        "    response = client.predict(\n",
        "        model_display_name=model_display_name,\n",
        "        inputs=inputs,\n",
        "        feature_importance=True,\n",
        "    )\n",
        "else:\n",
        "    response = client.predict(\n",
        "        model_display_name=model_display_name, inputs=inputs\n",
        "    )\n",
        "\n",
        "print(\"Prediction results:\")\n",
        "for result in response.payload:\n",
        "    print(\n",
        "        \"Predicted class name: {}\".format(result.tables.value.string_value)\n",
        "    )\n",
        "    print(\"Predicted class score: {}\".format(result.tables.score))\n",
        "\n",
        "    if feature_importance:\n",
        "        # get features of top importance\n",
        "        feat_list = [\n",
        "            (column.feature_importance, column.column_display_name)\n",
        "            for column in result.tables.tables_model_column_info\n",
        "        ]\n",
        "        feat_list.sort(reverse=True)\n",
        "        if len(feat_list) < 10:\n",
        "            feat_to_show = len(feat_list)\n",
        "        else:\n",
        "            feat_to_show = 10\n",
        "\n",
        "        print(\"Features of top importance:\")\n",
        "        for feat in feat_list[:feat_to_show]:\n",
        "            print(feat)"
      ],
      "execution_count": 6,
      "outputs": [
        {
          "output_type": "error",
          "ename": "DefaultCredentialsError",
          "evalue": "ignored",
          "traceback": [
            "\u001b[0;31m---------------------------------------------------------------------------\u001b[0m",
            "\u001b[0;31mDefaultCredentialsError\u001b[0m                   Traceback (most recent call last)",
            "\u001b[0;32m<ipython-input-6-cd61fb0e4c0e>\u001b[0m in \u001b[0;36m<module>\u001b[0;34m()\u001b[0m\n\u001b[0;32m----> 1\u001b[0;31m \u001b[0mclient\u001b[0m \u001b[0;34m=\u001b[0m \u001b[0mautoml\u001b[0m\u001b[0;34m.\u001b[0m\u001b[0mTablesClient\u001b[0m\u001b[0;34m(\u001b[0m\u001b[0mproject\u001b[0m\u001b[0;34m=\u001b[0m\u001b[0mproject_id\u001b[0m\u001b[0;34m,\u001b[0m \u001b[0mregion\u001b[0m\u001b[0;34m=\u001b[0m\u001b[0mcompute_region\u001b[0m\u001b[0;34m)\u001b[0m\u001b[0;34m\u001b[0m\u001b[0;34m\u001b[0m\u001b[0m\n\u001b[0m\u001b[1;32m      2\u001b[0m \u001b[0;34m\u001b[0m\u001b[0m\n\u001b[1;32m      3\u001b[0m \u001b[0;32mif\u001b[0m \u001b[0mfeature_importance\u001b[0m\u001b[0;34m:\u001b[0m\u001b[0;34m\u001b[0m\u001b[0;34m\u001b[0m\u001b[0m\n\u001b[1;32m      4\u001b[0m     response = client.predict(\n\u001b[1;32m      5\u001b[0m         \u001b[0mmodel_display_name\u001b[0m\u001b[0;34m=\u001b[0m\u001b[0mmodel_display_name\u001b[0m\u001b[0;34m,\u001b[0m\u001b[0;34m\u001b[0m\u001b[0;34m\u001b[0m\u001b[0m\n",
            "\u001b[0;32m/usr/local/lib/python3.6/dist-packages/google/cloud/automl_v1beta1/tables/tables_client.py\u001b[0m in \u001b[0;36m__init__\u001b[0;34m(self, project, region, credentials, client, prediction_client, gcs_client, **kwargs)\u001b[0m\n\u001b[1;32m    108\u001b[0m         \u001b[0;32mif\u001b[0m \u001b[0mclient\u001b[0m \u001b[0;32mis\u001b[0m \u001b[0;32mNone\u001b[0m\u001b[0;34m:\u001b[0m\u001b[0;34m\u001b[0m\u001b[0;34m\u001b[0m\u001b[0m\n\u001b[1;32m    109\u001b[0m             self.auto_ml_client = gapic.auto_ml_client.AutoMlClient(\n\u001b[0;32m--> 110\u001b[0;31m                 \u001b[0mcredentials\u001b[0m\u001b[0;34m=\u001b[0m\u001b[0mcredentials\u001b[0m\u001b[0;34m,\u001b[0m \u001b[0mclient_info\u001b[0m\u001b[0;34m=\u001b[0m\u001b[0mclient_info_\u001b[0m\u001b[0;34m,\u001b[0m \u001b[0;34m**\u001b[0m\u001b[0mkwargs\u001b[0m\u001b[0;34m\u001b[0m\u001b[0;34m\u001b[0m\u001b[0m\n\u001b[0m\u001b[1;32m    111\u001b[0m             )\n\u001b[1;32m    112\u001b[0m         \u001b[0;32melse\u001b[0m\u001b[0;34m:\u001b[0m\u001b[0;34m\u001b[0m\u001b[0;34m\u001b[0m\u001b[0m\n",
            "\u001b[0;32m/usr/local/lib/python3.6/dist-packages/google/cloud/automl_v1beta1/gapic/auto_ml_client.py\u001b[0m in \u001b[0;36m__init__\u001b[0;34m(self, transport, channel, credentials, client_config, client_info, client_options)\u001b[0m\n\u001b[1;32m    263\u001b[0m         \u001b[0;32melse\u001b[0m\u001b[0;34m:\u001b[0m\u001b[0;34m\u001b[0m\u001b[0;34m\u001b[0m\u001b[0m\n\u001b[1;32m    264\u001b[0m             self.transport = auto_ml_grpc_transport.AutoMlGrpcTransport(\n\u001b[0;32m--> 265\u001b[0;31m                 \u001b[0maddress\u001b[0m\u001b[0;34m=\u001b[0m\u001b[0mapi_endpoint\u001b[0m\u001b[0;34m,\u001b[0m \u001b[0mchannel\u001b[0m\u001b[0;34m=\u001b[0m\u001b[0mchannel\u001b[0m\u001b[0;34m,\u001b[0m \u001b[0mcredentials\u001b[0m\u001b[0;34m=\u001b[0m\u001b[0mcredentials\u001b[0m\u001b[0;34m\u001b[0m\u001b[0;34m\u001b[0m\u001b[0m\n\u001b[0m\u001b[1;32m    266\u001b[0m             )\n\u001b[1;32m    267\u001b[0m \u001b[0;34m\u001b[0m\u001b[0m\n",
            "\u001b[0;32m/usr/local/lib/python3.6/dist-packages/google/cloud/automl_v1beta1/gapic/transports/auto_ml_grpc_transport.py\u001b[0m in \u001b[0;36m__init__\u001b[0;34m(self, channel, credentials, address)\u001b[0m\n\u001b[1;32m     65\u001b[0m                 options={\n\u001b[1;32m     66\u001b[0m                     \u001b[0;34m\"grpc.max_send_message_length\"\u001b[0m\u001b[0;34m:\u001b[0m \u001b[0;34m-\u001b[0m\u001b[0;36m1\u001b[0m\u001b[0;34m,\u001b[0m\u001b[0;34m\u001b[0m\u001b[0;34m\u001b[0m\u001b[0m\n\u001b[0;32m---> 67\u001b[0;31m                     \u001b[0;34m\"grpc.max_receive_message_length\"\u001b[0m\u001b[0;34m:\u001b[0m \u001b[0;34m-\u001b[0m\u001b[0;36m1\u001b[0m\u001b[0;34m,\u001b[0m\u001b[0;34m\u001b[0m\u001b[0;34m\u001b[0m\u001b[0m\n\u001b[0m\u001b[1;32m     68\u001b[0m                 }.items(),\n\u001b[1;32m     69\u001b[0m             )\n",
            "\u001b[0;32m/usr/local/lib/python3.6/dist-packages/google/cloud/automl_v1beta1/gapic/transports/auto_ml_grpc_transport.py\u001b[0m in \u001b[0;36mcreate_channel\u001b[0;34m(cls, address, credentials, **kwargs)\u001b[0m\n\u001b[1;32m    102\u001b[0m         \"\"\"\n\u001b[1;32m    103\u001b[0m         return google.api_core.grpc_helpers.create_channel(\n\u001b[0;32m--> 104\u001b[0;31m             \u001b[0maddress\u001b[0m\u001b[0;34m,\u001b[0m \u001b[0mcredentials\u001b[0m\u001b[0;34m=\u001b[0m\u001b[0mcredentials\u001b[0m\u001b[0;34m,\u001b[0m \u001b[0mscopes\u001b[0m\u001b[0;34m=\u001b[0m\u001b[0mcls\u001b[0m\u001b[0;34m.\u001b[0m\u001b[0m_OAUTH_SCOPES\u001b[0m\u001b[0;34m,\u001b[0m \u001b[0;34m**\u001b[0m\u001b[0mkwargs\u001b[0m\u001b[0;34m\u001b[0m\u001b[0;34m\u001b[0m\u001b[0m\n\u001b[0m\u001b[1;32m    105\u001b[0m         )\n\u001b[1;32m    106\u001b[0m \u001b[0;34m\u001b[0m\u001b[0m\n",
            "\u001b[0;32m/usr/local/lib/python3.6/dist-packages/google/api_core/grpc_helpers.py\u001b[0m in \u001b[0;36mcreate_channel\u001b[0;34m(target, credentials, scopes, ssl_credentials, **kwargs)\u001b[0m\n\u001b[1;32m    175\u001b[0m     \"\"\"\n\u001b[1;32m    176\u001b[0m     \u001b[0;32mif\u001b[0m \u001b[0mcredentials\u001b[0m \u001b[0;32mis\u001b[0m \u001b[0;32mNone\u001b[0m\u001b[0;34m:\u001b[0m\u001b[0;34m\u001b[0m\u001b[0;34m\u001b[0m\u001b[0m\n\u001b[0;32m--> 177\u001b[0;31m         \u001b[0mcredentials\u001b[0m\u001b[0;34m,\u001b[0m \u001b[0m_\u001b[0m \u001b[0;34m=\u001b[0m \u001b[0mgoogle\u001b[0m\u001b[0;34m.\u001b[0m\u001b[0mauth\u001b[0m\u001b[0;34m.\u001b[0m\u001b[0mdefault\u001b[0m\u001b[0;34m(\u001b[0m\u001b[0mscopes\u001b[0m\u001b[0;34m=\u001b[0m\u001b[0mscopes\u001b[0m\u001b[0;34m)\u001b[0m\u001b[0;34m\u001b[0m\u001b[0;34m\u001b[0m\u001b[0m\n\u001b[0m\u001b[1;32m    178\u001b[0m     \u001b[0;32melse\u001b[0m\u001b[0;34m:\u001b[0m\u001b[0;34m\u001b[0m\u001b[0;34m\u001b[0m\u001b[0m\n\u001b[1;32m    179\u001b[0m         credentials = google.auth.credentials.with_scopes_if_required(\n",
            "\u001b[0;32m/usr/local/lib/python3.6/dist-packages/google/auth/_default.py\u001b[0m in \u001b[0;36mdefault\u001b[0;34m(scopes, request)\u001b[0m\n\u001b[1;32m    281\u001b[0m             \u001b[0;32mreturn\u001b[0m \u001b[0mcredentials\u001b[0m\u001b[0;34m,\u001b[0m \u001b[0meffective_project_id\u001b[0m\u001b[0;34m\u001b[0m\u001b[0;34m\u001b[0m\u001b[0m\n\u001b[1;32m    282\u001b[0m \u001b[0;34m\u001b[0m\u001b[0m\n\u001b[0;32m--> 283\u001b[0;31m     \u001b[0;32mraise\u001b[0m \u001b[0mexceptions\u001b[0m\u001b[0;34m.\u001b[0m\u001b[0mDefaultCredentialsError\u001b[0m\u001b[0;34m(\u001b[0m\u001b[0m_HELP_MESSAGE\u001b[0m\u001b[0;34m)\u001b[0m\u001b[0;34m\u001b[0m\u001b[0;34m\u001b[0m\u001b[0m\n\u001b[0m",
            "\u001b[0;31mDefaultCredentialsError\u001b[0m: Could not automatically determine credentials. Please set GOOGLE_APPLICATION_CREDENTIALS or\nexplicitly create credential and re-run the application. For more\ninformation, please see\nhttps://developers.google.com/accounts/docs/application-default-credentials."
          ]
        }
      ]
    },
    {
      "cell_type": "code",
      "metadata": {
        "id": "CfH39_ZEdpvy",
        "colab_type": "code",
        "colab": {}
      },
      "source": [
        ";lkj"
      ],
      "execution_count": 0,
      "outputs": []
    }
  ]
}