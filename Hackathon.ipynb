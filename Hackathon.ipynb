{
  "nbformat": 4,
  "nbformat_minor": 0,
  "metadata": {
    "colab": {
      "name": "Hackathon.ipynb",
      "provenance": [],
      "authorship_tag": "ABX9TyNx/XYPXPdDOnSCRynK0FEN",
      "include_colab_link": true
    },
    "kernelspec": {
      "name": "python3",
      "display_name": "Python 3"
    }
  },
  "cells": [
    {
      "cell_type": "markdown",
      "metadata": {
        "id": "view-in-github",
        "colab_type": "text"
      },
      "source": [
        "<a href=\"https://colab.research.google.com/github/baerashid/TAMUHACK2020/blob/master/Hackathon.ipynb\" target=\"_parent\"><img src=\"https://colab.research.google.com/assets/colab-badge.svg\" alt=\"Open In Colab\"/></a>"
      ]
    },
    {
      "cell_type": "code",
      "metadata": {
        "id": "TqqUDItlSS3e",
        "colab_type": "code",
        "colab": {}
      },
      "source": [
        "!pip install google-cloud-automl"
      ],
      "execution_count": 0,
      "outputs": []
    },
    {
      "cell_type": "code",
      "metadata": {
        "id": "XxCZ05WLSudn",
        "colab_type": "code",
        "colab": {}
      },
      "source": [
        "from google.cloud import automl_v1beta1 as automl"
      ],
      "execution_count": 0,
      "outputs": []
    },
    {
      "cell_type": "code",
      "metadata": {
        "id": "6JHY7_1GSa5D",
        "colab_type": "code",
        "colab": {}
      },
      "source": [
        "# TODO(developer): Uncomment and set the following variables\n",
        "project_id = 'core-waters-264818'\n",
        "compute_region = 'us-central1'\n",
        "model_display_name = 'usaccidents_20200125104149'\n",
        "inputs = {'Amenity': 'FALSE',\n",
        "          'Bump': 'FALSE',\n",
        "          'Country': 'US',\n",
        "          'Crossing': 'FALSE',\n",
        "          'Description' : 'Accident on County Hwy-16 Sportsman Club Rd between Liberty Ridge Ct and Nichols Ln.',\n",
        "          'End_Time' : '02/08/2016 13:11',\n",
        "          'Give_Way' : 'FALSE',\n",
        "          'ID' : 'A-26',\n",
        "          'Junction' : 'FALSE',\n",
        "          'No_Exit': 'FALSE',\n",
        "          'Railway': 'FALSE',\n",
        "          'Roundabout': 'FALSE',\n",
        "          'Severity': '2',\n",
        "          'Side': 'L',\n",
        "          'Source': 'MapQuest',\n",
        "          'Start_Lat': 40.158024,\n",
        "          'Start_Lng': -82.641762,\n",
        "          'Start_Time': '02/08/2016 12:41',\n",
        "          'State': 'OH',\n",
        "          'Station':'FALSE',\n",
        "          'Stop':'FALSE',\n",
        "          'TMC': 201,\n",
        "          'Traffic_Calming':'FALSE',\n",
        "          'Traffic_Signal':'FALSE',\n",
        "          'Turning_Loop':'FALSE'}"
      ],
      "execution_count": 0,
      "outputs": []
    },
    {
      "cell_type": "code",
      "metadata": {
        "id": "wDFWy7t3RSsV",
        "colab_type": "code",
        "colab": {
          "base_uri": "https://localhost:8080/",
          "height": 35
        },
        "outputId": "75fcec29-8ad8-4867-c652-1098d2e8cf7c"
      },
      "source": [
        "import os\n",
        "os.environ[\"GOOGLE_APPLICATION_CREDENTIALS\"]=\"/My Project 76496-e5c6ae5ebb93.json\"\n",
        "\n",
        "#ensure the path is set correctly\n",
        "!echo $GOOGLE_APPLICATION_CREDENTIALS"
      ],
      "execution_count": 22,
      "outputs": [
        {
          "output_type": "stream",
          "text": [
            "/My Project 76496-e5c6ae5ebb93.json\n"
          ],
          "name": "stdout"
        }
      ]
    },
    {
      "cell_type": "code",
      "metadata": {
        "id": "Y420XadQSlO8",
        "colab_type": "code",
        "colab": {}
      },
      "source": [
        "feature_importance= False"
      ],
      "execution_count": 0,
      "outputs": []
    },
    {
      "cell_type": "code",
      "metadata": {
        "id": "nnKN1Sg0YaQ0",
        "colab_type": "code",
        "colab": {
          "base_uri": "https://localhost:8080/",
          "height": 72
        },
        "outputId": "5e82fa11-121b-4263-d810-158a9c481bd8"
      },
      "source": [
        "client = automl.TablesClient(project=project_id, region=compute_region)\n",
        "\n",
        "if feature_importance:\n",
        "    response = client.predict(\n",
        "        model_display_name=model_display_name,\n",
        "        inputs=inputs,\n",
        "        feature_importance=True,\n",
        "    )\n",
        "else:\n",
        "    response = client.predict(\n",
        "        model_display_name=model_display_name, inputs=inputs\n",
        "    )\n",
        "\n",
        "print(\"Prediction results:\")\n",
        "for result in response.payload:\n",
        "    print(\n",
        "        \"Predicted class name: {}\".format(result.tables.value.string_value)\n",
        "    )\n",
        "    print(\"Predicted class score: {}\".format(result.tables.score))\n",
        "\n",
        "    if feature_importance:\n",
        "        # get features of top importance\n",
        "        feat_list = [\n",
        "            (column.feature_importance, column.column_display_name)\n",
        "            for column in result.tables.tables_model_column_info\n",
        "        ]\n",
        "        feat_list.sort(reverse=True)\n",
        "        if len(feat_list) < 10:\n",
        "            feat_to_show = len(feat_list)\n",
        "        else:\n",
        "            feat_to_show = 10\n",
        "\n",
        "        print(\"Features of top importance:\")\n",
        "        for feat in feat_list[:feat_to_show]:\n",
        "            print(feat)"
      ],
      "execution_count": 30,
      "outputs": [
        {
          "output_type": "stream",
          "text": [
            "Prediction results:\n",
            "Predicted class name: \n",
            "Predicted class score: 0.0\n"
          ],
          "name": "stdout"
        }
      ]
    },
    {
      "cell_type": "code",
      "metadata": {
        "id": "4ITl7zTfTnNr",
        "colab_type": "code",
        "colab": {}
      },
      "source": [
        ""
      ],
      "execution_count": 0,
      "outputs": []
    }
  ]
}